{
 "cells": [
  {
   "cell_type": "markdown",
   "metadata": {},
   "source": [
    "## Load Data and Libraries"
   ]
  },
  {
   "cell_type": "code",
   "execution_count": 1,
   "metadata": {},
   "outputs": [],
   "source": [
    "import pandas as pd\n",
    "import matplotlib.pyplot as plt\n",
    "import numpy as np"
   ]
  },
  {
   "cell_type": "code",
   "execution_count": 2,
   "metadata": {},
   "outputs": [],
   "source": [
    "dataset = pd.read_csv('online_shoppers_intention.csv')"
   ]
  },
  {
   "cell_type": "code",
   "execution_count": 3,
   "metadata": {},
   "outputs": [
    {
     "data": {
      "text/html": [
       "<div>\n",
       "<style scoped>\n",
       "    .dataframe tbody tr th:only-of-type {\n",
       "        vertical-align: middle;\n",
       "    }\n",
       "\n",
       "    .dataframe tbody tr th {\n",
       "        vertical-align: top;\n",
       "    }\n",
       "\n",
       "    .dataframe thead th {\n",
       "        text-align: right;\n",
       "    }\n",
       "</style>\n",
       "<table border=\"1\" class=\"dataframe\">\n",
       "  <thead>\n",
       "    <tr style=\"text-align: right;\">\n",
       "      <th></th>\n",
       "      <th>Administrative</th>\n",
       "      <th>Administrative_Duration</th>\n",
       "      <th>Informational</th>\n",
       "      <th>Informational_Duration</th>\n",
       "      <th>ProductRelated</th>\n",
       "      <th>ProductRelated_Duration</th>\n",
       "      <th>BounceRates</th>\n",
       "      <th>ExitRates</th>\n",
       "      <th>PageValues</th>\n",
       "      <th>SpecialDay</th>\n",
       "      <th>Month</th>\n",
       "      <th>OperatingSystems</th>\n",
       "      <th>Browser</th>\n",
       "      <th>Region</th>\n",
       "      <th>TrafficType</th>\n",
       "      <th>VisitorType</th>\n",
       "      <th>Weekend</th>\n",
       "      <th>Revenue</th>\n",
       "    </tr>\n",
       "  </thead>\n",
       "  <tbody>\n",
       "    <tr>\n",
       "      <th>0</th>\n",
       "      <td>0</td>\n",
       "      <td>0.0</td>\n",
       "      <td>0</td>\n",
       "      <td>0.0</td>\n",
       "      <td>1</td>\n",
       "      <td>0.000000</td>\n",
       "      <td>0.20</td>\n",
       "      <td>0.20</td>\n",
       "      <td>0.0</td>\n",
       "      <td>0.0</td>\n",
       "      <td>Feb</td>\n",
       "      <td>1</td>\n",
       "      <td>1</td>\n",
       "      <td>1</td>\n",
       "      <td>1</td>\n",
       "      <td>Returning_Visitor</td>\n",
       "      <td>False</td>\n",
       "      <td>False</td>\n",
       "    </tr>\n",
       "    <tr>\n",
       "      <th>1</th>\n",
       "      <td>0</td>\n",
       "      <td>0.0</td>\n",
       "      <td>0</td>\n",
       "      <td>0.0</td>\n",
       "      <td>2</td>\n",
       "      <td>64.000000</td>\n",
       "      <td>0.00</td>\n",
       "      <td>0.10</td>\n",
       "      <td>0.0</td>\n",
       "      <td>0.0</td>\n",
       "      <td>Feb</td>\n",
       "      <td>2</td>\n",
       "      <td>2</td>\n",
       "      <td>1</td>\n",
       "      <td>2</td>\n",
       "      <td>Returning_Visitor</td>\n",
       "      <td>False</td>\n",
       "      <td>False</td>\n",
       "    </tr>\n",
       "    <tr>\n",
       "      <th>2</th>\n",
       "      <td>0</td>\n",
       "      <td>0.0</td>\n",
       "      <td>0</td>\n",
       "      <td>0.0</td>\n",
       "      <td>1</td>\n",
       "      <td>0.000000</td>\n",
       "      <td>0.20</td>\n",
       "      <td>0.20</td>\n",
       "      <td>0.0</td>\n",
       "      <td>0.0</td>\n",
       "      <td>Feb</td>\n",
       "      <td>4</td>\n",
       "      <td>1</td>\n",
       "      <td>9</td>\n",
       "      <td>3</td>\n",
       "      <td>Returning_Visitor</td>\n",
       "      <td>False</td>\n",
       "      <td>False</td>\n",
       "    </tr>\n",
       "    <tr>\n",
       "      <th>3</th>\n",
       "      <td>0</td>\n",
       "      <td>0.0</td>\n",
       "      <td>0</td>\n",
       "      <td>0.0</td>\n",
       "      <td>2</td>\n",
       "      <td>2.666667</td>\n",
       "      <td>0.05</td>\n",
       "      <td>0.14</td>\n",
       "      <td>0.0</td>\n",
       "      <td>0.0</td>\n",
       "      <td>Feb</td>\n",
       "      <td>3</td>\n",
       "      <td>2</td>\n",
       "      <td>2</td>\n",
       "      <td>4</td>\n",
       "      <td>Returning_Visitor</td>\n",
       "      <td>False</td>\n",
       "      <td>False</td>\n",
       "    </tr>\n",
       "    <tr>\n",
       "      <th>4</th>\n",
       "      <td>0</td>\n",
       "      <td>0.0</td>\n",
       "      <td>0</td>\n",
       "      <td>0.0</td>\n",
       "      <td>10</td>\n",
       "      <td>627.500000</td>\n",
       "      <td>0.02</td>\n",
       "      <td>0.05</td>\n",
       "      <td>0.0</td>\n",
       "      <td>0.0</td>\n",
       "      <td>Feb</td>\n",
       "      <td>3</td>\n",
       "      <td>3</td>\n",
       "      <td>1</td>\n",
       "      <td>4</td>\n",
       "      <td>Returning_Visitor</td>\n",
       "      <td>True</td>\n",
       "      <td>False</td>\n",
       "    </tr>\n",
       "  </tbody>\n",
       "</table>\n",
       "</div>"
      ],
      "text/plain": [
       "   Administrative  Administrative_Duration  Informational  \\\n",
       "0               0                      0.0              0   \n",
       "1               0                      0.0              0   \n",
       "2               0                      0.0              0   \n",
       "3               0                      0.0              0   \n",
       "4               0                      0.0              0   \n",
       "\n",
       "   Informational_Duration  ProductRelated  ProductRelated_Duration  \\\n",
       "0                     0.0               1                 0.000000   \n",
       "1                     0.0               2                64.000000   \n",
       "2                     0.0               1                 0.000000   \n",
       "3                     0.0               2                 2.666667   \n",
       "4                     0.0              10               627.500000   \n",
       "\n",
       "   BounceRates  ExitRates  PageValues  SpecialDay Month  OperatingSystems  \\\n",
       "0         0.20       0.20         0.0         0.0   Feb                 1   \n",
       "1         0.00       0.10         0.0         0.0   Feb                 2   \n",
       "2         0.20       0.20         0.0         0.0   Feb                 4   \n",
       "3         0.05       0.14         0.0         0.0   Feb                 3   \n",
       "4         0.02       0.05         0.0         0.0   Feb                 3   \n",
       "\n",
       "   Browser  Region  TrafficType        VisitorType  Weekend  Revenue  \n",
       "0        1       1            1  Returning_Visitor    False    False  \n",
       "1        2       1            2  Returning_Visitor    False    False  \n",
       "2        1       9            3  Returning_Visitor    False    False  \n",
       "3        2       2            4  Returning_Visitor    False    False  \n",
       "4        3       1            4  Returning_Visitor     True    False  "
      ]
     },
     "execution_count": 3,
     "metadata": {},
     "output_type": "execute_result"
    }
   ],
   "source": [
    "dataset.head()"
   ]
  },
  {
   "cell_type": "code",
   "execution_count": 4,
   "metadata": {},
   "outputs": [
    {
     "data": {
      "text/plain": [
       "(12330, 18)"
      ]
     },
     "execution_count": 4,
     "metadata": {},
     "output_type": "execute_result"
    }
   ],
   "source": [
    "dataset.shape"
   ]
  },
  {
   "cell_type": "markdown",
   "metadata": {},
   "source": [
    "## Data Analysis"
   ]
  },
  {
   "cell_type": "markdown",
   "metadata": {},
   "source": [
    "### 1.Missing Values"
   ]
  },
  {
   "cell_type": "code",
   "execution_count": 5,
   "metadata": {},
   "outputs": [
    {
     "data": {
      "text/plain": [
       "False"
      ]
     },
     "execution_count": 5,
     "metadata": {},
     "output_type": "execute_result"
    }
   ],
   "source": [
    "any(dataset.isnull().sum())"
   ]
  },
  {
   "cell_type": "markdown",
   "metadata": {},
   "source": [
    "##### No Missing values"
   ]
  },
  {
   "cell_type": "markdown",
   "metadata": {},
   "source": [
    "### 2.Analysing BounceRate and ExitRates"
   ]
  },
  {
   "cell_type": "markdown",
   "metadata": {},
   "source": [
    "#### For all pageviews to the page, Exit Rate is the percentage that were the last in the session.\n",
    "\n",
    "#### For all sessions that start with the page, Bounce Rate is the percentage that were the only one of the session. \n",
    "\n",
    "#### Bounce Rate for a page is based only on sessions that start with that page."
   ]
  },
  {
   "cell_type": "code",
   "execution_count": 6,
   "metadata": {},
   "outputs": [],
   "source": [
    "Products_with_Highest_BounceRates =dataset.groupby(['ProductRelated']).mean()[['ProductRelated_Duration','BounceRates','ExitRates','PageValues']].sort_values('BounceRates',ascending=False)"
   ]
  },
  {
   "cell_type": "code",
   "execution_count": 7,
   "metadata": {},
   "outputs": [
    {
     "data": {
      "text/html": [
       "<div>\n",
       "<style scoped>\n",
       "    .dataframe tbody tr th:only-of-type {\n",
       "        vertical-align: middle;\n",
       "    }\n",
       "\n",
       "    .dataframe tbody tr th {\n",
       "        vertical-align: top;\n",
       "    }\n",
       "\n",
       "    .dataframe thead th {\n",
       "        text-align: right;\n",
       "    }\n",
       "</style>\n",
       "<table border=\"1\" class=\"dataframe\">\n",
       "  <thead>\n",
       "    <tr style=\"text-align: right;\">\n",
       "      <th></th>\n",
       "      <th>ProductRelated_Duration</th>\n",
       "      <th>BounceRates</th>\n",
       "      <th>ExitRates</th>\n",
       "      <th>PageValues</th>\n",
       "    </tr>\n",
       "    <tr>\n",
       "      <th>ProductRelated</th>\n",
       "      <th></th>\n",
       "      <th></th>\n",
       "      <th></th>\n",
       "      <th></th>\n",
       "    </tr>\n",
       "  </thead>\n",
       "  <tbody>\n",
       "    <tr>\n",
       "      <th>1</th>\n",
       "      <td>16.759474</td>\n",
       "      <td>0.172594</td>\n",
       "      <td>0.183541</td>\n",
       "      <td>0.170681</td>\n",
       "    </tr>\n",
       "    <tr>\n",
       "      <th>0</th>\n",
       "      <td>0.000000</td>\n",
       "      <td>0.098158</td>\n",
       "      <td>0.127446</td>\n",
       "      <td>0.000000</td>\n",
       "    </tr>\n",
       "    <tr>\n",
       "      <th>2</th>\n",
       "      <td>62.648883</td>\n",
       "      <td>0.048856</td>\n",
       "      <td>0.104933</td>\n",
       "      <td>0.846367</td>\n",
       "    </tr>\n",
       "    <tr>\n",
       "      <th>3</th>\n",
       "      <td>117.771305</td>\n",
       "      <td>0.033990</td>\n",
       "      <td>0.077767</td>\n",
       "      <td>1.657080</td>\n",
       "    </tr>\n",
       "    <tr>\n",
       "      <th>377</th>\n",
       "      <td>11729.408040</td>\n",
       "      <td>0.032877</td>\n",
       "      <td>0.045246</td>\n",
       "      <td>0.000000</td>\n",
       "    </tr>\n",
       "  </tbody>\n",
       "</table>\n",
       "</div>"
      ],
      "text/plain": [
       "                ProductRelated_Duration  BounceRates  ExitRates  PageValues\n",
       "ProductRelated                                                             \n",
       "1                             16.759474     0.172594   0.183541    0.170681\n",
       "0                              0.000000     0.098158   0.127446    0.000000\n",
       "2                             62.648883     0.048856   0.104933    0.846367\n",
       "3                            117.771305     0.033990   0.077767    1.657080\n",
       "377                        11729.408040     0.032877   0.045246    0.000000"
      ]
     },
     "execution_count": 7,
     "metadata": {},
     "output_type": "execute_result"
    }
   ],
   "source": [
    "Products_with_Highest_BounceRates.head()"
   ]
  },
  {
   "cell_type": "markdown",
   "metadata": {},
   "source": [
    "##### When the user lands on pages of above products he is likely to leave the website"
   ]
  },
  {
   "cell_type": "code",
   "execution_count": 8,
   "metadata": {},
   "outputs": [],
   "source": [
    "# How I derived the code below\n",
    "# plot1_Region_analysis = dataset.groupby(['Region']).mean()[['BounceRates','ExitRates']].reset_index()\n",
    "\n",
    "# plot1_Region_analysis.columns\n",
    "\n",
    "# plot1_Region_analysis2 = pd.melt(plot1_Region_analysis, id_vars=\"Region\", var_name=\"Parameters\", value_name=\"Values\")\n",
    "# plot1_Region_analysis2\n",
    "\n",
    "# plt.rcParams['figure.figsize']=(10,10)\n",
    "\n",
    "# import seaborn as sns\n",
    "# import matplotlib.pylab as plt2\n",
    "\n",
    "# g =sns.factorplot(x='Region', y='Values',hue ='Parameters', data=plot1_Region_analysis2, kind='bar',legend=False,size=7)\n",
    "# g.set_xticklabels(fontsize='20')\n",
    "# g.set_yticklabels(fontsize='20')\n",
    "# g.set_xlabels(fontsize='20')\n",
    "# g.set_ylabels(fontsize='20')\n",
    "# g.add_legend(fontsize='20')\n"
   ]
  },
  {
   "cell_type": "code",
   "execution_count": 9,
   "metadata": {},
   "outputs": [],
   "source": [
    "#col should be less than 15 categories \n",
    "def plot_multiple_bar(col,list_of_measures,dataframe):\n",
    "    import seaborn as sns\n",
    "    import matplotlib.pylab as plt2\n",
    "    import pandas as pd\n",
    "    \n",
    "    temp_df = dataframe.groupby([col]).mean()[list_of_measures].reset_index()\n",
    "    temp_df_melt = pd.melt(temp_df, id_vars=col, var_name=\"Parameters\", value_name=\"Values\")\n",
    "    g =sns.factorplot(x=col, y='Values',hue ='Parameters', data=temp_df_melt, kind='bar',legend=False,size =7)\n",
    "    g.set_xticklabels(fontsize='20')\n",
    "    g.set_yticklabels(fontsize='20')\n",
    "    g.set_xlabels(fontsize='20')\n",
    "    g.set_ylabels(fontsize='20')\n",
    "    g.add_legend(fontsize='20')\n"
   ]
  },
  {
   "cell_type": "code",
   "execution_count": 10,
   "metadata": {},
   "outputs": [
    {
     "data": {
      "image/png": "[encoded data removed]",
      "text/plain": [
       "<matplotlib.figure.Figure at 0x1901a04b438>"
      ]
     },
     "metadata": {},
     "output_type": "display_data"
    }
   ],
   "source": [
    "plot_multiple_bar('Browser',['BounceRates','ExitRates'],dataset)"
   ]
  },
  {
   "cell_type": "markdown",
   "metadata": {},
   "source": [
    "<code>\n",
    "Pages not getting rendered correctly maybe a cause for user to bounce off the website . \n",
    "\n",
    "From the above barplot it is clear that Browser 3 and Browser 13 have very high BounceRates as well as ExitRates.\n",
    "</code>"
   ]
  },
  {
   "cell_type": "code",
   "execution_count": 11,
   "metadata": {},
   "outputs": [
    {
     "data": {
      "image/png": "[encoded data removed]",
      "text/plain": [
       "<matplotlib.figure.Figure at 0x1901a3ac240>"
      ]
     },
     "metadata": {},
     "output_type": "display_data"
    }
   ],
   "source": [
    "plot_multiple_bar('Region',['BounceRates','ExitRates'],dataset)"
   ]
  },
  {
   "cell_type": "markdown",
   "metadata": {},
   "source": [
    "<code>\n",
    "Not much sharp difference in BounceRates Regionwise\n",
    "</code>"
   ]
  },
  {
   "cell_type": "markdown",
   "metadata": {},
   "source": [
    "### 3.Page Value"
   ]
  },
  {
   "cell_type": "markdown",
   "metadata": {},
   "source": [
    "#### This value is intended to give you an idea of which page in your site contributed more to your site's revenue."
   ]
  },
  {
   "cell_type": "code",
   "execution_count": 12,
   "metadata": {},
   "outputs": [
    {
     "data": {
      "text/plain": [
       "array(['Returning_Visitor', 'New_Visitor', 'Other'], dtype=object)"
      ]
     },
     "execution_count": 12,
     "metadata": {},
     "output_type": "execute_result"
    }
   ],
   "source": [
    "dataset.VisitorType.unique()"
   ]
  },
  {
   "cell_type": "code",
   "execution_count": 13,
   "metadata": {},
   "outputs": [
    {
     "data": {
      "text/html": [
       "<div>\n",
       "<style scoped>\n",
       "    .dataframe tbody tr th:only-of-type {\n",
       "        vertical-align: middle;\n",
       "    }\n",
       "\n",
       "    .dataframe tbody tr th {\n",
       "        vertical-align: top;\n",
       "    }\n",
       "\n",
       "    .dataframe thead th {\n",
       "        text-align: right;\n",
       "    }\n",
       "</style>\n",
       "<table border=\"1\" class=\"dataframe\">\n",
       "  <thead>\n",
       "    <tr style=\"text-align: right;\">\n",
       "      <th></th>\n",
       "      <th>PageValues</th>\n",
       "      <th>Revenue</th>\n",
       "    </tr>\n",
       "    <tr>\n",
       "      <th>ProductRelated</th>\n",
       "      <th></th>\n",
       "      <th></th>\n",
       "    </tr>\n",
       "  </thead>\n",
       "  <tbody>\n",
       "    <tr>\n",
       "      <th>205</th>\n",
       "      <td>177.528825</td>\n",
       "      <td>0.0</td>\n",
       "    </tr>\n",
       "    <tr>\n",
       "      <th>184</th>\n",
       "      <td>72.529615</td>\n",
       "      <td>0.0</td>\n",
       "    </tr>\n",
       "    <tr>\n",
       "      <th>318</th>\n",
       "      <td>45.155135</td>\n",
       "      <td>1.0</td>\n",
       "    </tr>\n",
       "    <tr>\n",
       "      <th>226</th>\n",
       "      <td>44.696428</td>\n",
       "      <td>1.0</td>\n",
       "    </tr>\n",
       "    <tr>\n",
       "      <th>139</th>\n",
       "      <td>35.999813</td>\n",
       "      <td>0.2</td>\n",
       "    </tr>\n",
       "  </tbody>\n",
       "</table>\n",
       "</div>"
      ],
      "text/plain": [
       "                PageValues  Revenue\n",
       "ProductRelated                     \n",
       "205             177.528825      0.0\n",
       "184              72.529615      0.0\n",
       "318              45.155135      1.0\n",
       "226              44.696428      1.0\n",
       "139              35.999813      0.2"
      ]
     },
     "execution_count": 13,
     "metadata": {},
     "output_type": "execute_result"
    }
   ],
   "source": [
    "dataset.groupby(['ProductRelated']).mean()[['PageValues','Revenue']].sort_values('PageValues',ascending=False).head(5)"
   ]
  },
  {
   "cell_type": "markdown",
   "metadata": {},
   "source": [
    "### 4. Revenue based Analysis"
   ]
  },
  {
   "cell_type": "code",
   "execution_count": 14,
   "metadata": {},
   "outputs": [
    {
     "data": {
      "text/plain": [
       "ProductRelated\n",
       "10    50\n",
       "13    45\n",
       "22    44\n",
       "14    43\n",
       "21    42\n",
       "19    42\n",
       "8     42\n",
       "17    40\n",
       "12    40\n",
       "15    40\n",
       "dtype: int64"
      ]
     },
     "execution_count": 14,
     "metadata": {},
     "output_type": "execute_result"
    }
   ],
   "source": [
    "dataset[dataset.Revenue==True].groupby(['ProductRelated']).size().sort_values(ascending=False).head(10)"
   ]
  },
  {
   "cell_type": "markdown",
   "metadata": {},
   "source": [
    "Products 10,13,22,14,21,19,8,17,12,15 contribute higher to Revenue"
   ]
  },
  {
   "cell_type": "code",
   "execution_count": 15,
   "metadata": {},
   "outputs": [
    {
     "data": {
      "text/plain": [
       "ProductRelated\n",
       "10    20\n",
       "16    19\n",
       "7     18\n",
       "13    18\n",
       "12    17\n",
       "14    17\n",
       "21    16\n",
       "17    16\n",
       "8     15\n",
       "27    12\n",
       "dtype: int64"
      ]
     },
     "execution_count": 15,
     "metadata": {},
     "output_type": "execute_result"
    }
   ],
   "source": [
    "dataset.loc[(dataset.VisitorType=='New_Visitor') & (dataset.Revenue==True)].groupby(['ProductRelated']).size().sort_values(ascending=False).head(10)\n",
    "# .groupby(['VisitorType']).size().sort_values(ascending=False).head(10)"
   ]
  },
  {
   "cell_type": "markdown",
   "metadata": {},
   "source": [
    "Products 10,16,7,13,12,14,21,17,8,27 generate revenue among new users"
   ]
  },
  {
   "cell_type": "code",
   "execution_count": 16,
   "metadata": {},
   "outputs": [
    {
     "data": {
      "text/plain": [
       "ProductRelated\n",
       "22    33\n",
       "19    33\n",
       "20    31\n",
       "10    30\n",
       "15    29\n",
       "8     27\n",
       "28    26\n",
       "13    26\n",
       "30    26\n",
       "21    26\n",
       "dtype: int64"
      ]
     },
     "execution_count": 16,
     "metadata": {},
     "output_type": "execute_result"
    }
   ],
   "source": [
    "dataset.loc[(dataset.VisitorType=='Returning_Visitor') & (dataset.Revenue==True)].groupby(['ProductRelated']).size().sort_values(ascending=False).head(10)"
   ]
  },
  {
   "cell_type": "markdown",
   "metadata": {},
   "source": [
    "Products 22,19,20,10,15,8,28,13,30,21 generate revenue among Returning users."
   ]
  },
  {
   "cell_type": "markdown",
   "metadata": {},
   "source": [
    "### Statistical Analysis"
   ]
  },
  {
   "cell_type": "code",
   "execution_count": 17,
   "metadata": {},
   "outputs": [],
   "source": [
    "corr_df =dataset.corr()"
   ]
  },
  {
   "cell_type": "code",
   "execution_count": 18,
   "metadata": {},
   "outputs": [
    {
     "name": "stdout",
     "output_type": "stream",
     "text": [
      "Administrative => Administrative_Duration : 0.6015833421250285\n",
      "Administrative_Duration => Administrative : 0.6015833421250285\n",
      "Informational => Informational_Duration : 0.618954861781397\n",
      "Informational_Duration => Informational : 0.618954861781397\n",
      "ProductRelated => ProductRelated_Duration : 0.8609268361763887\n",
      "ProductRelated_Duration => ProductRelated : 0.8609268361763887\n",
      "BounceRates => ExitRates : 0.9130043961814553\n",
      "ExitRates => BounceRates : 0.9130043961814553\n"
     ]
    }
   ],
   "source": [
    "for index,rows in corr_df.iterrows():\n",
    "    for i in rows.index.tolist():\n",
    "        if index != i and abs(rows[i])>0.5:\n",
    "            print(index ,'=>',i,\":\",rows[i])"
   ]
  },
  {
   "cell_type": "markdown",
   "metadata": {},
   "source": [
    "### Class Imbalance Issue"
   ]
  },
  {
   "cell_type": "code",
   "execution_count": 19,
   "metadata": {},
   "outputs": [
    {
     "data": {
      "text/plain": [
       "False    0.845255\n",
       "True     0.154745\n",
       "Name: Revenue, dtype: float64"
      ]
     },
     "execution_count": 19,
     "metadata": {},
     "output_type": "execute_result"
    }
   ],
   "source": [
    "dataset.Revenue.value_counts()/dataset.shape[0]"
   ]
  },
  {
   "cell_type": "markdown",
   "metadata": {},
   "source": [
    "##### Class Imbalance does exist"
   ]
  },
  {
   "cell_type": "markdown",
   "metadata": {},
   "source": [
    "### Prepare Data"
   ]
  },
  {
   "cell_type": "code",
   "execution_count": 20,
   "metadata": {},
   "outputs": [],
   "source": [
    "dataset['Revenue'] = dataset['Revenue'].map({True:1,False:0})"
   ]
  },
  {
   "cell_type": "code",
   "execution_count": 21,
   "metadata": {},
   "outputs": [
    {
     "data": {
      "text/plain": [
       "Index(['Administrative', 'Administrative_Duration', 'Informational',\n",
       "       'Informational_Duration', 'ProductRelated', 'ProductRelated_Duration',\n",
       "       'BounceRates', 'ExitRates', 'PageValues', 'SpecialDay', 'Month',\n",
       "       'OperatingSystems', 'Browser', 'Region', 'TrafficType', 'VisitorType',\n",
       "       'Weekend', 'Revenue'],\n",
       "      dtype='object')"
      ]
     },
     "execution_count": 21,
     "metadata": {},
     "output_type": "execute_result"
    }
   ],
   "source": [
    "dataset.columns"
   ]
  },
  {
   "cell_type": "code",
   "execution_count": 22,
   "metadata": {},
   "outputs": [],
   "source": [
    "dataset = pd.get_dummies(dataset)"
   ]
  },
  {
   "cell_type": "code",
   "execution_count": 23,
   "metadata": {},
   "outputs": [],
   "source": [
    "X =dataset[dataset.columns.difference(['Revenue'])]\n",
    "y =dataset.Revenue"
   ]
  },
  {
   "cell_type": "code",
   "execution_count": 24,
   "metadata": {},
   "outputs": [],
   "source": [
    "from sklearn.model_selection import train_test_split\n",
    "\n",
    "X_train,X_test,y_train,y_test = train_test_split(X,y,test_size=0.3,random_state=123)"
   ]
  },
  {
   "cell_type": "code",
   "execution_count": 25,
   "metadata": {},
   "outputs": [
    {
     "data": {
      "text/plain": [
       "((8631, 28), (3699, 28), (8631,), (3699,))"
      ]
     },
     "execution_count": 25,
     "metadata": {},
     "output_type": "execute_result"
    }
   ],
   "source": [
    "X_train.shape , X_test.shape ,y_train.shape ,y_test.shape"
   ]
  },
  {
   "cell_type": "markdown",
   "metadata": {},
   "source": [
    "## Model Building "
   ]
  },
  {
   "cell_type": "markdown",
   "metadata": {},
   "source": [
    "### Decision Tree"
   ]
  },
  {
   "cell_type": "markdown",
   "metadata": {},
   "source": [
    "#### Model 1 "
   ]
  },
  {
   "cell_type": "code",
   "execution_count": 26,
   "metadata": {},
   "outputs": [
    {
     "data": {
      "text/plain": [
       "DecisionTreeClassifier(class_weight=None, criterion='gini', max_depth=None,\n",
       "            max_features=None, max_leaf_nodes=None,\n",
       "            min_impurity_decrease=0.0, min_impurity_split=None,\n",
       "            min_samples_leaf=1, min_samples_split=2,\n",
       "            min_weight_fraction_leaf=0.0, presort=False, random_state=None,\n",
       "            splitter='best')"
      ]
     },
     "execution_count": 26,
     "metadata": {},
     "output_type": "execute_result"
    }
   ],
   "source": [
    "from sklearn.tree import DecisionTreeClassifier\n",
    "\n",
    "dt = DecisionTreeClassifier()\n",
    "\n",
    "dt.fit(X_train,y_train)"
   ]
  },
  {
   "cell_type": "code",
   "execution_count": 27,
   "metadata": {},
   "outputs": [],
   "source": [
    "dt_train_pred = dt.predict(X_train)\n",
    "\n",
    "dt_test_pred = dt.predict(X_test)"
   ]
  },
  {
   "cell_type": "code",
   "execution_count": 28,
   "metadata": {},
   "outputs": [
    {
     "name": "stdout",
     "output_type": "stream",
     "text": [
      "Training Metrics\n",
      "Accuracy: 1.0\n",
      "Precision: 1.0\n",
      "Recall: 1.0\n",
      "Test Metrics\n",
      "Accuracy: 0.8518518518518519\n",
      "Precision: 0.5504132231404959\n",
      "Recall: 0.5467980295566502\n"
     ]
    }
   ],
   "source": [
    "from sklearn.metrics import accuracy_score,precision_score,recall_score\n",
    "\n",
    "print(\"Training Metrics\")\n",
    "print(\"Accuracy:\",accuracy_score(y_train,dt_train_pred))\n",
    "print(\"Precision:\",precision_score(y_train,dt_train_pred))\n",
    "print(\"Recall:\",recall_score(y_train,dt_train_pred))\n",
    "\n",
    "\n",
    "print(\"Test Metrics\")\n",
    "print(\"Accuracy:\",accuracy_score(y_test,dt_test_pred))\n",
    "print(\"Precision:\",precision_score(y_test,dt_test_pred))\n",
    "print(\"Recall:\",recall_score(y_test,dt_test_pred))\n"
   ]
  },
  {
   "cell_type": "code",
   "execution_count": 29,
   "metadata": {},
   "outputs": [
    {
     "data": {
      "text/plain": [
       "0.7293860697945065"
      ]
     },
     "execution_count": 29,
     "metadata": {},
     "output_type": "execute_result"
    }
   ],
   "source": [
    "from sklearn.metrics import roc_curve, auc\n",
    "false_positive_rate, true_positive_rate, thresholds = roc_curve(y_test, dt_test_pred)\n",
    "roc_auc = auc(false_positive_rate, true_positive_rate)\n",
    "\n",
    "roc_auc"
   ]
  },
  {
   "cell_type": "code",
   "execution_count": 30,
   "metadata": {},
   "outputs": [
    {
     "name": "stdout",
     "output_type": "stream",
     "text": [
      "Test Classification Report\n",
      "              precision    recall  f1-score   support\n",
      "\n",
      "           0       0.91      0.91      0.91      3090\n",
      "           1       0.55      0.55      0.55       609\n",
      "\n",
      "   micro avg       0.85      0.85      0.85      3699\n",
      "   macro avg       0.73      0.73      0.73      3699\n",
      "weighted avg       0.85      0.85      0.85      3699\n",
      "\n"
     ]
    }
   ],
   "source": [
    "from sklearn.metrics import classification_report\n",
    "print('Test Classification Report')\n",
    "print(classification_report(y_test,dt_test_pred))\n"
   ]
  },
  {
   "cell_type": "markdown",
   "metadata": {},
   "source": [
    "##### Conclusion - Bad performance on test , overfittting poor performance on test set and bad precision and recall for class 1"
   ]
  },
  {
   "cell_type": "markdown",
   "metadata": {},
   "source": [
    "#### Model 2"
   ]
  },
  {
   "cell_type": "code",
   "execution_count": 31,
   "metadata": {},
   "outputs": [
    {
     "data": {
      "image/png": "[encoded data removed]",
      "text/plain": [
       "<matplotlib.figure.Figure at 0x1901a4c38d0>"
      ]
     },
     "metadata": {},
     "output_type": "display_data"
    }
   ],
   "source": [
    "from sklearn.metrics import roc_curve, auc\n",
    "\n",
    "max_depths = np.linspace(1, 32, 32, endpoint=True)\n",
    "\n",
    "train_results = []\n",
    "test_results = []\n",
    "for max_depth in max_depths:    \n",
    "    dt = DecisionTreeClassifier(max_depth=max_depth)\n",
    "    dt.fit(X_train,y_train)\n",
    "    train_pred = dt.predict(X_train)\n",
    "    false_positive_rate, true_positive_rate, thresholds = roc_curve(y_train, train_pred)\n",
    "    roc_auc = auc(false_positive_rate, true_positive_rate)\n",
    "    # Add auc score to previous train results\n",
    "    train_results.append(roc_auc)\n",
    "    y_pred = dt.predict(X_test)\n",
    "    false_positive_rate, true_positive_rate, thresholds = roc_curve(y_test, y_pred)\n",
    "    roc_auc = auc(false_positive_rate, true_positive_rate)\n",
    "    # Add auc score to previous test results\n",
    "    test_results.append(roc_auc)\n",
    "    \n",
    "    \n",
    "from matplotlib.legend_handler import HandlerLine2D\n",
    "line1, = plt.plot(max_depths, train_results, 'b', label='Train AUC')\n",
    "line2, = plt.plot(max_depths, test_results, 'r', label='Test AUC')\n",
    "plt.legend(handler_map={line1: HandlerLine2D(numpoints=2)})\n",
    "plt.ylabel('AUC score')\n",
    "plt.xlabel('Tree depth')\n",
    "plt.show()"
   ]
  },
  {
   "cell_type": "code",
   "execution_count": 32,
   "metadata": {},
   "outputs": [
    {
     "name": "stdout",
     "output_type": "stream",
     "text": [
      "Training Metrics\n",
      "Accuracy: 0.875680685899664\n",
      "Precision: 0.559915164369035\n",
      "Recall: 0.812933025404157\n",
      "Test Metrics\n",
      "Accuracy: 0.8678021086780211\n",
      "Precision: 0.5710900473933649\n",
      "Recall: 0.7914614121510674\n",
      "Test Classification Report\n",
      "              precision    recall  f1-score   support\n",
      "\n",
      "           0       0.96      0.88      0.92      3090\n",
      "           1       0.57      0.79      0.66       609\n",
      "\n",
      "   micro avg       0.87      0.87      0.87      3699\n",
      "   macro avg       0.76      0.84      0.79      3699\n",
      "weighted avg       0.89      0.87      0.88      3699\n",
      "\n",
      "Roc -Auc Curve 0.8371546542955984\n"
     ]
    }
   ],
   "source": [
    "from sklearn.tree import DecisionTreeClassifier\n",
    "\n",
    "dt2 = DecisionTreeClassifier(max_depth=5,min_samples_split=0.3)\n",
    "\n",
    "dt2.fit(X_train,y_train)\n",
    "\n",
    "dt_train_pred2 = dt2.predict(X_train)\n",
    "\n",
    "dt_test_pred2 = dt2.predict(X_test)\n",
    "\n",
    "from sklearn.metrics import accuracy_score,precision_score,recall_score\n",
    "\n",
    "print(\"Training Metrics\")\n",
    "print(\"Accuracy:\",accuracy_score(y_train,dt_train_pred2))\n",
    "print(\"Precision:\",precision_score(y_train,dt_train_pred2))\n",
    "print(\"Recall:\",recall_score(y_train,dt_train_pred2))\n",
    "\n",
    "\n",
    "print(\"Test Metrics\")\n",
    "print(\"Accuracy:\",accuracy_score(y_test,dt_test_pred2))\n",
    "print(\"Precision:\",precision_score(y_test,dt_test_pred2))\n",
    "print(\"Recall:\",recall_score(y_test,dt_test_pred2))\n",
    "\n",
    "\n",
    "from sklearn.metrics import classification_report\n",
    "print('Test Classification Report')\n",
    "print(classification_report(y_test,dt_test_pred2))\n",
    "\n",
    "from sklearn.metrics import roc_curve, auc\n",
    "false_positive_rate, true_positive_rate, thresholds = roc_curve(y_test, dt_test_pred2)\n",
    "roc_auc = auc(false_positive_rate, true_positive_rate)\n",
    "\n",
    "print('Roc -Auc Curve',roc_auc)\n"
   ]
  },
  {
   "cell_type": "markdown",
   "metadata": {},
   "source": [
    "##### Conclusion :Adding max_depth=5,min_samples_split=0.3 curbed the overfitting and improved the test scores "
   ]
  },
  {
   "cell_type": "markdown",
   "metadata": {},
   "source": [
    "#### Model 3"
   ]
  },
  {
   "cell_type": "code",
   "execution_count": 33,
   "metadata": {},
   "outputs": [],
   "source": [
    "from imblearn.over_sampling import SMOTE\n",
    "sm =SMOTE(k_neighbors=20)\n",
    "X_train_bal, y_train_bal = sm.fit_sample(X_train, y_train)"
   ]
  },
  {
   "cell_type": "code",
   "execution_count": 34,
   "metadata": {},
   "outputs": [
    {
     "name": "stdout",
     "output_type": "stream",
     "text": [
      "Training Metrics\n",
      "Accuracy: 0.9300327332242226\n",
      "Precision: 0.9235626007522837\n",
      "Recall: 0.937670485542826\n",
      "Test Metrics\n",
      "Accuracy: 0.8826709921600433\n",
      "Precision: 0.6220362622036262\n",
      "Recall: 0.7323481116584565\n",
      "Test Classification Report\n",
      "              precision    recall  f1-score   support\n",
      "\n",
      "           0       0.95      0.91      0.93      3090\n",
      "           1       0.62      0.73      0.67       609\n",
      "\n",
      "   micro avg       0.88      0.88      0.88      3699\n",
      "   macro avg       0.78      0.82      0.80      3699\n",
      "weighted avg       0.89      0.88      0.89      3699\n",
      "\n",
      "Roc -Auc Curve 0.8223229231431441\n"
     ]
    }
   ],
   "source": [
    "from sklearn.tree import DecisionTreeClassifier\n",
    "\n",
    "dt3 = DecisionTreeClassifier(max_depth=5,min_samples_split=40)\n",
    "\n",
    "dt3.fit(X_train_bal,y_train_bal)\n",
    "\n",
    "dt_train_pred3 = dt3.predict(X_train_bal)\n",
    "\n",
    "dt_test_pred3 = dt3.predict(X_test)\n",
    "\n",
    "from sklearn.metrics import accuracy_score,precision_score,recall_score\n",
    "\n",
    "print(\"Training Metrics\")\n",
    "print(\"Accuracy:\",accuracy_score(y_train_bal,dt_train_pred3))\n",
    "print(\"Precision:\",precision_score(y_train_bal,dt_train_pred3))\n",
    "print(\"Recall:\",recall_score(y_train_bal,dt_train_pred3))\n",
    "\n",
    "\n",
    "print(\"Test Metrics\")\n",
    "print(\"Accuracy:\",accuracy_score(y_test,dt_test_pred3))\n",
    "print(\"Precision:\",precision_score(y_test,dt_test_pred3))\n",
    "print(\"Recall:\",recall_score(y_test,dt_test_pred3))\n",
    "\n",
    "\n",
    "from sklearn.metrics import classification_report\n",
    "print('Test Classification Report')\n",
    "print(classification_report(y_test,dt_test_pred3))\n",
    "\n",
    "from sklearn.metrics import roc_curve, auc\n",
    "false_positive_rate, true_positive_rate, thresholds = roc_curve(y_test, dt_test_pred3)\n",
    "roc_auc = auc(false_positive_rate, true_positive_rate)\n",
    "\n",
    "print('Roc -Auc Curve',roc_auc)\n"
   ]
  },
  {
   "cell_type": "markdown",
   "metadata": {},
   "source": [
    "##### Conclusion: F1 score has improved over the previous model"
   ]
  },
  {
   "cell_type": "markdown",
   "metadata": {},
   "source": [
    "\n",
    "<table style=\"border:2px solid black;width:50%;\" align=\"left\">\n",
    "<tr style=\"font-weight:bold;font-size:12px\"><b><td>Model</td><td>ROC-AUC</td><td>F1 Score(Class 1)</td></b></tr>\n",
    "<tr style=\"font-weight:bold;font-size:12px\"><td>1</td><td>0.72938</td><td>0.55</td></tr>\n",
    "<tr style=\"font-weight:bold;font-size:12px\"><td>2</td><td>0.83715</td><td>0.66</td></tr>\n",
    "<tr style=\"font-weight:bold;font-size:12px\"><td>3</td><td>0.82232</td><td>0.67</td></tr>\n",
    "</table>"
   ]
  },
  {
   "cell_type": "markdown",
   "metadata": {},
   "source": [
    "### Random Forest"
   ]
  },
  {
   "cell_type": "markdown",
   "metadata": {},
   "source": [
    "#### Model 1"
   ]
  },
  {
   "cell_type": "code",
   "execution_count": 35,
   "metadata": {},
   "outputs": [],
   "source": [
    "from sklearn.ensemble import RandomForestClassifier\n",
    "\n",
    "rf_model = RandomForestClassifier(random_state=123,n_estimators=500)\n",
    "\n",
    "rf_model.fit(X_train,y_train)\n",
    "\n",
    "rf_train_pred1= rf_model.predict(X_train)\n",
    "\n",
    "rf_test_pred1 = rf_model.predict(X_test)\n"
   ]
  },
  {
   "cell_type": "code",
   "execution_count": 36,
   "metadata": {},
   "outputs": [
    {
     "name": "stdout",
     "output_type": "stream",
     "text": [
      "Training Metrics\n",
      "Accuracy: 1.0\n",
      "Precision: 1.0\n",
      "Recall: 1.0\n",
      "Test Metrics\n",
      "Accuracy: 0.8891592322249257\n",
      "Precision: 0.7330210772833724\n",
      "Recall: 0.5139573070607554\n",
      "Test Classification Report\n",
      "              precision    recall  f1-score   support\n",
      "\n",
      "           0       0.91      0.96      0.94      3090\n",
      "           1       0.73      0.51      0.60       609\n",
      "\n",
      "   micro avg       0.89      0.89      0.89      3699\n",
      "   macro avg       0.82      0.74      0.77      3699\n",
      "weighted avg       0.88      0.89      0.88      3699\n",
      "\n",
      "Roc -Auc Curve 0.7385320515886302\n"
     ]
    }
   ],
   "source": [
    "from sklearn.metrics import accuracy_score,precision_score,recall_score\n",
    "\n",
    "print(\"Training Metrics\")\n",
    "print(\"Accuracy:\",accuracy_score(y_train,rf_train_pred1))\n",
    "print(\"Precision:\",precision_score(y_train,rf_train_pred1))\n",
    "print(\"Recall:\",recall_score(y_train,rf_train_pred1))\n",
    "\n",
    "\n",
    "print(\"Test Metrics\")\n",
    "print(\"Accuracy:\",accuracy_score(y_test,rf_test_pred1))\n",
    "print(\"Precision:\",precision_score(y_test,rf_test_pred1))\n",
    "print(\"Recall:\",recall_score(y_test,rf_test_pred1))\n",
    "\n",
    "\n",
    "from sklearn.metrics import classification_report\n",
    "print('Test Classification Report')\n",
    "print(classification_report(y_test,rf_test_pred1))\n",
    "\n",
    "from sklearn.metrics import roc_curve, auc\n",
    "false_positive_rate, true_positive_rate, thresholds = roc_curve(y_test, rf_test_pred1)\n",
    "roc_auc = auc(false_positive_rate, true_positive_rate)\n",
    "\n",
    "print('Roc -Auc Curve',roc_auc)\n"
   ]
  },
  {
   "cell_type": "markdown",
   "metadata": {},
   "source": [
    "##### Conclusion :Overfitting to train set"
   ]
  },
  {
   "cell_type": "markdown",
   "metadata": {},
   "source": [
    "#### Model 2"
   ]
  },
  {
   "cell_type": "code",
   "execution_count": 37,
   "metadata": {},
   "outputs": [],
   "source": [
    "from sklearn.ensemble import RandomForestClassifier\n",
    "\n",
    "rf_model2 = RandomForestClassifier(random_state=123,n_estimators=700,min_samples_split=60,class_weight={0:0.20,1:0.80})\n",
    "\n",
    "rf_model2.fit(X_train,y_train)\n",
    "\n",
    "rf_train_pred2= rf_model2.predict(X_train)\n",
    "\n",
    "rf_test_pred2 = rf_model2.predict(X_test)"
   ]
  },
  {
   "cell_type": "code",
   "execution_count": 38,
   "metadata": {},
   "outputs": [
    {
     "name": "stdout",
     "output_type": "stream",
     "text": [
      "Training Metrics\n",
      "Accuracy: 0.9061522419186653\n",
      "Precision: 0.6415749855240301\n",
      "Recall: 0.852963818321786\n",
      "Test Metrics\n",
      "Accuracy: 0.8775344687753447\n",
      "Precision: 0.5989847715736041\n",
      "Recall: 0.7750410509031199\n",
      "Test Classification Report\n",
      "              precision    recall  f1-score   support\n",
      "\n",
      "           0       0.95      0.90      0.92      3090\n",
      "           1       0.60      0.78      0.68       609\n",
      "\n",
      "   micro avg       0.88      0.88      0.88      3699\n",
      "   macro avg       0.78      0.84      0.80      3699\n",
      "weighted avg       0.89      0.88      0.88      3699\n",
      "\n",
      "Roc -Auc Curve 0.8363878393674175\n"
     ]
    }
   ],
   "source": [
    "from sklearn.metrics import accuracy_score,precision_score,recall_score\n",
    "\n",
    "print(\"Training Metrics\")\n",
    "print(\"Accuracy:\",accuracy_score(y_train,rf_train_pred2))\n",
    "print(\"Precision:\",precision_score(y_train,rf_train_pred2))\n",
    "print(\"Recall:\",recall_score(y_train,rf_train_pred2))\n",
    "\n",
    "\n",
    "print(\"Test Metrics\")\n",
    "print(\"Accuracy:\",accuracy_score(y_test,rf_test_pred2))\n",
    "print(\"Precision:\",precision_score(y_test,rf_test_pred2))\n",
    "print(\"Recall:\",recall_score(y_test,rf_test_pred2))\n",
    "\n",
    "\n",
    "from sklearn.metrics import classification_report\n",
    "print('Test Classification Report')\n",
    "print(classification_report(y_test,rf_test_pred2))\n",
    "\n",
    "from sklearn.metrics import roc_curve, auc\n",
    "false_positive_rate, true_positive_rate, thresholds = roc_curve(y_test, rf_test_pred2)\n",
    "roc_auc = auc(false_positive_rate, true_positive_rate)\n",
    "\n",
    "print('Roc -Auc Curve',roc_auc)"
   ]
  },
  {
   "cell_type": "markdown",
   "metadata": {},
   "source": [
    "##### Conclusion: Decent improvement over previous model using min_samples_split=60,class_weight={0:0.20,1:0.80}"
   ]
  },
  {
   "cell_type": "markdown",
   "metadata": {},
   "source": [
    "<table style=\"border:2px solid black;width:50%;\" align=\"left\">\n",
    "<tr style=\"font-weight:bold;font-size:12px\"><b><td>Model</td><td>ROC-AUC</td><td>F1 Score(Class 1)</td></b></tr>\n",
    "<tr style=\"font-weight:bold;font-size:12px\"><td>1</td><td>0.73853</td><td>0.60</td></tr>\n",
    "<tr style=\"font-weight:bold;font-size:12px\"><td>2</td><td>0.83638</td><td>0.68</td></tr>\n",
    "</table>"
   ]
  },
  {
   "cell_type": "markdown",
   "metadata": {},
   "source": [
    "### Boosting "
   ]
  },
  {
   "cell_type": "code",
   "execution_count": 40,
   "metadata": {},
   "outputs": [],
   "source": [
    "from sklearn.ensemble import GradientBoostingClassifier\n",
    "\n",
    "gbm_model = GradientBoostingClassifier(random_state=123,n_estimators=50,max_depth=5,min_samples_split=40)\n",
    "\n",
    "gbm_model.fit(X_train,y_train)\n",
    "\n",
    "gbm_train_pred= gbm_model.predict(X_train)\n",
    "\n",
    "gbm_test_pred = gbm_model.predict(X_test)"
   ]
  },
  {
   "cell_type": "code",
   "execution_count": 41,
   "metadata": {},
   "outputs": [
    {
     "name": "stdout",
     "output_type": "stream",
     "text": [
      "Training Metrics\n",
      "Accuracy: 0.9395203336809176\n",
      "Precision: 0.8627450980392157\n",
      "Recall: 0.7113163972286374\n",
      "Test Metrics\n",
      "Accuracy: 0.8934847256015139\n",
      "Precision: 0.7253668763102725\n",
      "Recall: 0.5681444991789819\n",
      "Test Classification Report\n",
      "              precision    recall  f1-score   support\n",
      "\n",
      "           0       0.92      0.96      0.94      3090\n",
      "           1       0.73      0.57      0.64       609\n",
      "\n",
      "   micro avg       0.89      0.89      0.89      3699\n",
      "   macro avg       0.82      0.76      0.79      3699\n",
      "weighted avg       0.89      0.89      0.89      3699\n",
      "\n",
      "Roc -Auc Curve 0.7628748385862547\n"
     ]
    }
   ],
   "source": [
    "from sklearn.metrics import accuracy_score,precision_score,recall_score\n",
    "\n",
    "print(\"Training Metrics\")\n",
    "print(\"Accuracy:\",accuracy_score(y_train,gbm_train_pred))\n",
    "print(\"Precision:\",precision_score(y_train,gbm_train_pred))\n",
    "print(\"Recall:\",recall_score(y_train,gbm_train_pred))\n",
    "\n",
    "\n",
    "print(\"Test Metrics\")\n",
    "print(\"Accuracy:\",accuracy_score(y_test,gbm_test_pred))\n",
    "print(\"Precision:\",precision_score(y_test,gbm_test_pred))\n",
    "print(\"Recall:\",recall_score(y_test,gbm_test_pred))\n",
    "\n",
    "\n",
    "from sklearn.metrics import classification_report\n",
    "print('Test Classification Report')\n",
    "print(classification_report(y_test,gbm_test_pred))\n",
    "\n",
    "from sklearn.metrics import roc_curve, auc\n",
    "false_positive_rate, true_positive_rate, thresholds = roc_curve(y_test, gbm_test_pred)\n",
    "roc_auc = auc(false_positive_rate, true_positive_rate)\n",
    "\n",
    "print('Roc -Auc Curve',roc_auc)"
   ]
  },
  {
   "cell_type": "markdown",
   "metadata": {},
   "source": [
    "### Preparing the data for Linear Models"
   ]
  },
  {
   "cell_type": "code",
   "execution_count": 42,
   "metadata": {},
   "outputs": [
    {
     "data": {
      "text/html": [
       "<div>\n",
       "<style scoped>\n",
       "    .dataframe tbody tr th:only-of-type {\n",
       "        vertical-align: middle;\n",
       "    }\n",
       "\n",
       "    .dataframe tbody tr th {\n",
       "        vertical-align: top;\n",
       "    }\n",
       "\n",
       "    .dataframe thead th {\n",
       "        text-align: right;\n",
       "    }\n",
       "</style>\n",
       "<table border=\"1\" class=\"dataframe\">\n",
       "  <thead>\n",
       "    <tr style=\"text-align: right;\">\n",
       "      <th></th>\n",
       "      <th>Administrative</th>\n",
       "      <th>Administrative_Duration</th>\n",
       "      <th>BounceRates</th>\n",
       "      <th>Browser</th>\n",
       "      <th>ExitRates</th>\n",
       "      <th>Informational</th>\n",
       "      <th>Informational_Duration</th>\n",
       "      <th>Month_Aug</th>\n",
       "      <th>Month_Dec</th>\n",
       "      <th>Month_Feb</th>\n",
       "      <th>...</th>\n",
       "      <th>PageValues</th>\n",
       "      <th>ProductRelated</th>\n",
       "      <th>ProductRelated_Duration</th>\n",
       "      <th>Region</th>\n",
       "      <th>SpecialDay</th>\n",
       "      <th>TrafficType</th>\n",
       "      <th>VisitorType_New_Visitor</th>\n",
       "      <th>VisitorType_Other</th>\n",
       "      <th>VisitorType_Returning_Visitor</th>\n",
       "      <th>Weekend</th>\n",
       "    </tr>\n",
       "  </thead>\n",
       "  <tbody>\n",
       "    <tr>\n",
       "      <th>2476</th>\n",
       "      <td>5</td>\n",
       "      <td>626.000000</td>\n",
       "      <td>0.0</td>\n",
       "      <td>1</td>\n",
       "      <td>0.008228</td>\n",
       "      <td>1</td>\n",
       "      <td>66.0</td>\n",
       "      <td>0</td>\n",
       "      <td>0</td>\n",
       "      <td>0</td>\n",
       "      <td>...</td>\n",
       "      <td>41.925190</td>\n",
       "      <td>77</td>\n",
       "      <td>2660.150000</td>\n",
       "      <td>3</td>\n",
       "      <td>0.0</td>\n",
       "      <td>2</td>\n",
       "      <td>0</td>\n",
       "      <td>0</td>\n",
       "      <td>1</td>\n",
       "      <td>False</td>\n",
       "    </tr>\n",
       "    <tr>\n",
       "      <th>582</th>\n",
       "      <td>1</td>\n",
       "      <td>43.000000</td>\n",
       "      <td>0.0</td>\n",
       "      <td>2</td>\n",
       "      <td>0.005263</td>\n",
       "      <td>0</td>\n",
       "      <td>0.0</td>\n",
       "      <td>0</td>\n",
       "      <td>0</td>\n",
       "      <td>0</td>\n",
       "      <td>...</td>\n",
       "      <td>0.000000</td>\n",
       "      <td>37</td>\n",
       "      <td>1505.166667</td>\n",
       "      <td>4</td>\n",
       "      <td>0.0</td>\n",
       "      <td>8</td>\n",
       "      <td>1</td>\n",
       "      <td>0</td>\n",
       "      <td>0</td>\n",
       "      <td>False</td>\n",
       "    </tr>\n",
       "    <tr>\n",
       "      <th>10029</th>\n",
       "      <td>0</td>\n",
       "      <td>0.000000</td>\n",
       "      <td>0.0</td>\n",
       "      <td>5</td>\n",
       "      <td>0.022222</td>\n",
       "      <td>0</td>\n",
       "      <td>0.0</td>\n",
       "      <td>0</td>\n",
       "      <td>0</td>\n",
       "      <td>0</td>\n",
       "      <td>...</td>\n",
       "      <td>0.000000</td>\n",
       "      <td>9</td>\n",
       "      <td>258.291667</td>\n",
       "      <td>3</td>\n",
       "      <td>0.0</td>\n",
       "      <td>2</td>\n",
       "      <td>0</td>\n",
       "      <td>0</td>\n",
       "      <td>1</td>\n",
       "      <td>False</td>\n",
       "    </tr>\n",
       "    <tr>\n",
       "      <th>1154</th>\n",
       "      <td>0</td>\n",
       "      <td>0.000000</td>\n",
       "      <td>0.2</td>\n",
       "      <td>1</td>\n",
       "      <td>0.200000</td>\n",
       "      <td>0</td>\n",
       "      <td>0.0</td>\n",
       "      <td>0</td>\n",
       "      <td>0</td>\n",
       "      <td>0</td>\n",
       "      <td>...</td>\n",
       "      <td>0.000000</td>\n",
       "      <td>1</td>\n",
       "      <td>0.000000</td>\n",
       "      <td>1</td>\n",
       "      <td>0.0</td>\n",
       "      <td>9</td>\n",
       "      <td>0</td>\n",
       "      <td>0</td>\n",
       "      <td>1</td>\n",
       "      <td>True</td>\n",
       "    </tr>\n",
       "    <tr>\n",
       "      <th>1579</th>\n",
       "      <td>11</td>\n",
       "      <td>348.654762</td>\n",
       "      <td>0.0</td>\n",
       "      <td>2</td>\n",
       "      <td>0.002494</td>\n",
       "      <td>1</td>\n",
       "      <td>11.0</td>\n",
       "      <td>0</td>\n",
       "      <td>0</td>\n",
       "      <td>0</td>\n",
       "      <td>...</td>\n",
       "      <td>54.951269</td>\n",
       "      <td>64</td>\n",
       "      <td>1229.289286</td>\n",
       "      <td>1</td>\n",
       "      <td>0.0</td>\n",
       "      <td>2</td>\n",
       "      <td>1</td>\n",
       "      <td>0</td>\n",
       "      <td>0</td>\n",
       "      <td>False</td>\n",
       "    </tr>\n",
       "  </tbody>\n",
       "</table>\n",
       "<p>5 rows × 28 columns</p>\n",
       "</div>"
      ],
      "text/plain": [
       "       Administrative  Administrative_Duration  BounceRates  Browser  \\\n",
       "2476                5               626.000000          0.0        1   \n",
       "582                 1                43.000000          0.0        2   \n",
       "10029               0                 0.000000          0.0        5   \n",
       "1154                0                 0.000000          0.2        1   \n",
       "1579               11               348.654762          0.0        2   \n",
       "\n",
       "       ExitRates  Informational  Informational_Duration  Month_Aug  Month_Dec  \\\n",
       "2476    0.008228              1                    66.0          0          0   \n",
       "582     0.005263              0                     0.0          0          0   \n",
       "10029   0.022222              0                     0.0          0          0   \n",
       "1154    0.200000              0                     0.0          0          0   \n",
       "1579    0.002494              1                    11.0          0          0   \n",
       "\n",
       "       Month_Feb   ...     PageValues  ProductRelated  \\\n",
       "2476           0   ...      41.925190              77   \n",
       "582            0   ...       0.000000              37   \n",
       "10029          0   ...       0.000000               9   \n",
       "1154           0   ...       0.000000               1   \n",
       "1579           0   ...      54.951269              64   \n",
       "\n",
       "       ProductRelated_Duration  Region  SpecialDay  TrafficType  \\\n",
       "2476               2660.150000       3         0.0            2   \n",
       "582                1505.166667       4         0.0            8   \n",
       "10029               258.291667       3         0.0            2   \n",
       "1154                  0.000000       1         0.0            9   \n",
       "1579               1229.289286       1         0.0            2   \n",
       "\n",
       "       VisitorType_New_Visitor  VisitorType_Other  \\\n",
       "2476                         0                  0   \n",
       "582                          1                  0   \n",
       "10029                        0                  0   \n",
       "1154                         0                  0   \n",
       "1579                         1                  0   \n",
       "\n",
       "       VisitorType_Returning_Visitor  Weekend  \n",
       "2476                               1    False  \n",
       "582                                0    False  \n",
       "10029                              1    False  \n",
       "1154                               1     True  \n",
       "1579                               0    False  \n",
       "\n",
       "[5 rows x 28 columns]"
      ]
     },
     "execution_count": 42,
     "metadata": {},
     "output_type": "execute_result"
    }
   ],
   "source": [
    "X_train.head()"
   ]
  },
  {
   "cell_type": "code",
   "execution_count": 43,
   "metadata": {},
   "outputs": [
    {
     "data": {
      "text/plain": [
       "Administrative                     int64\n",
       "Administrative_Duration          float64\n",
       "BounceRates                      float64\n",
       "Browser                            int64\n",
       "ExitRates                        float64\n",
       "Informational                      int64\n",
       "Informational_Duration           float64\n",
       "Month_Aug                          uint8\n",
       "Month_Dec                          uint8\n",
       "Month_Feb                          uint8\n",
       "Month_Jul                          uint8\n",
       "Month_June                         uint8\n",
       "Month_Mar                          uint8\n",
       "Month_May                          uint8\n",
       "Month_Nov                          uint8\n",
       "Month_Oct                          uint8\n",
       "Month_Sep                          uint8\n",
       "OperatingSystems                   int64\n",
       "PageValues                       float64\n",
       "ProductRelated                     int64\n",
       "ProductRelated_Duration          float64\n",
       "Region                             int64\n",
       "SpecialDay                       float64\n",
       "TrafficType                        int64\n",
       "VisitorType_New_Visitor            uint8\n",
       "VisitorType_Other                  uint8\n",
       "VisitorType_Returning_Visitor      uint8\n",
       "Weekend                             bool\n",
       "dtype: object"
      ]
     },
     "execution_count": 43,
     "metadata": {},
     "output_type": "execute_result"
    }
   ],
   "source": [
    "X.dtypes"
   ]
  },
  {
   "cell_type": "code",
   "execution_count": 44,
   "metadata": {},
   "outputs": [
    {
     "name": "stderr",
     "output_type": "stream",
     "text": [
      "C:\\Users\\admin\\Anaconda3\\lib\\site-packages\\pandas\\core\\generic.py:3643: SettingWithCopyWarning: \n",
      "A value is trying to be set on a copy of a slice from a DataFrame.\n",
      "Try using .loc[row_indexer,col_indexer] = value instead\n",
      "\n",
      "See the caveats in the documentation: http://pandas.pydata.org/pandas-docs/stable/indexing.html#indexing-view-versus-copy\n",
      "  self[name] = value\n"
     ]
    }
   ],
   "source": [
    "X.Administrative = X.Administrative.astype('category')\n",
    "X.Browser = X.Browser.astype('category')\n",
    "X.Informational = X.Informational.astype('category')\n",
    "X.ProductRelated = X.ProductRelated.astype('category')\n",
    "X.Region = X.Region.astype('category')\n",
    "X.TrafficType = X.TrafficType.astype('category')\n",
    "X.OperatingSystems = X.OperatingSystems.astype('category')"
   ]
  },
  {
   "cell_type": "code",
   "execution_count": 45,
   "metadata": {},
   "outputs": [],
   "source": [
    "X = pd.get_dummies(X)"
   ]
  },
  {
   "cell_type": "code",
   "execution_count": 46,
   "metadata": {},
   "outputs": [
    {
     "name": "stderr",
     "output_type": "stream",
     "text": [
      "C:\\Users\\admin\\Anaconda3\\lib\\site-packages\\sklearn\\preprocessing\\data.py:323: DataConversionWarning: Data with input dtype bool, uint8, float64 were all converted to float64 by MinMaxScaler.\n",
      "  return self.partial_fit(X, y)\n"
     ]
    }
   ],
   "source": [
    "from sklearn.preprocessing import MinMaxScaler\n",
    "\n",
    "scaler = MinMaxScaler()\n",
    "\n",
    "X[X.columns] = scaler.fit_transform(X[X.columns])"
   ]
  },
  {
   "cell_type": "code",
   "execution_count": 47,
   "metadata": {},
   "outputs": [
    {
     "data": {
      "text/plain": [
       "((8631, 426), (3699, 426), (8631,), (3699,))"
      ]
     },
     "execution_count": 47,
     "metadata": {},
     "output_type": "execute_result"
    }
   ],
   "source": [
    "from sklearn.model_selection import train_test_split\n",
    "\n",
    "X_train,X_test,y_train,y_test = train_test_split(X,y,test_size=0.3,random_state=123)\n",
    "\n",
    "X_train.shape , X_test.shape ,y_train.shape ,y_test.shape"
   ]
  },
  {
   "cell_type": "markdown",
   "metadata": {},
   "source": [
    "#### Model 1 "
   ]
  },
  {
   "cell_type": "code",
   "execution_count": 48,
   "metadata": {},
   "outputs": [
    {
     "data": {
      "text/plain": [
       "0    0.849496\n",
       "1    0.150504\n",
       "Name: Revenue, dtype: float64"
      ]
     },
     "execution_count": 48,
     "metadata": {},
     "output_type": "execute_result"
    }
   ],
   "source": [
    "y_train.value_counts()/y_train.shape[0]"
   ]
  },
  {
   "cell_type": "code",
   "execution_count": 49,
   "metadata": {},
   "outputs": [
    {
     "name": "stderr",
     "output_type": "stream",
     "text": [
      "C:\\Users\\admin\\Anaconda3\\lib\\site-packages\\sklearn\\linear_model\\logistic.py:433: FutureWarning: Default solver will be changed to 'lbfgs' in 0.22. Specify a solver to silence this warning.\n",
      "  FutureWarning)\n"
     ]
    }
   ],
   "source": [
    "from sklearn.linear_model import LogisticRegression\n",
    "\n",
    "log_model = LogisticRegression(random_state=123)\n",
    "\n",
    "log_model.fit(X_train,y_train)\n",
    "\n",
    "log_pred_train1 = log_model.predict(X_train)\n",
    "\n",
    "log_pred_test1 =log_model.predict(X_test)"
   ]
  },
  {
   "cell_type": "code",
   "execution_count": 50,
   "metadata": {},
   "outputs": [
    {
     "name": "stdout",
     "output_type": "stream",
     "text": [
      "Training Metrics\n",
      "Accuracy: 0.8868033831537481\n",
      "Precision: 0.812015503875969\n",
      "Recall: 0.32255581216320245\n",
      "Test Metrics\n",
      "Accuracy: 0.8623952419572858\n",
      "Precision: 0.7314814814814815\n",
      "Recall: 0.2594417077175698\n",
      "Test Classification Report\n",
      "              precision    recall  f1-score   support\n",
      "\n",
      "           0       0.87      0.98      0.92      3090\n",
      "           1       0.73      0.26      0.38       609\n",
      "\n",
      "   micro avg       0.86      0.86      0.86      3699\n",
      "   macro avg       0.80      0.62      0.65      3699\n",
      "weighted avg       0.85      0.86      0.83      3699\n",
      "\n",
      "Roc -Auc Curve 0.6203357405901764\n"
     ]
    }
   ],
   "source": [
    "from sklearn.metrics import accuracy_score,precision_score,recall_score\n",
    "\n",
    "print(\"Training Metrics\")\n",
    "print(\"Accuracy:\",accuracy_score(y_train,log_pred_train1))\n",
    "print(\"Precision:\",precision_score(y_train,log_pred_train1))\n",
    "print(\"Recall:\",recall_score(y_train,log_pred_train1))\n",
    "\n",
    "\n",
    "print(\"Test Metrics\")\n",
    "print(\"Accuracy:\",accuracy_score(y_test,log_pred_test1))\n",
    "print(\"Precision:\",precision_score(y_test,log_pred_test1))\n",
    "print(\"Recall:\",recall_score(y_test,log_pred_test1))\n",
    "\n",
    "\n",
    "from sklearn.metrics import classification_report\n",
    "print('Test Classification Report')\n",
    "print(classification_report(y_test,log_pred_test1))\n",
    "\n",
    "from sklearn.metrics import roc_curve, auc\n",
    "false_positive_rate, true_positive_rate, thresholds = roc_curve(y_test, log_pred_test1)\n",
    "roc_auc = auc(false_positive_rate, true_positive_rate)\n",
    "\n",
    "print('Roc -Auc Curve',roc_auc)\n"
   ]
  },
  {
   "cell_type": "markdown",
   "metadata": {},
   "source": [
    "##### Conclusion :Extremely Poor Recall and F1 score for class 1 "
   ]
  },
  {
   "cell_type": "markdown",
   "metadata": {},
   "source": [
    "#### Model 2"
   ]
  },
  {
   "cell_type": "code",
   "execution_count": 51,
   "metadata": {},
   "outputs": [
    {
     "data": {
      "text/plain": [
       "0    0.849496\n",
       "1    0.150504\n",
       "Name: Revenue, dtype: float64"
      ]
     },
     "execution_count": 51,
     "metadata": {},
     "output_type": "execute_result"
    }
   ],
   "source": [
    "y_train.value_counts()/y_train.shape[0]"
   ]
  },
  {
   "cell_type": "code",
   "execution_count": 52,
   "metadata": {},
   "outputs": [
    {
     "name": "stderr",
     "output_type": "stream",
     "text": [
      "C:\\Users\\admin\\Anaconda3\\lib\\site-packages\\sklearn\\linear_model\\logistic.py:433: FutureWarning: Default solver will be changed to 'lbfgs' in 0.22. Specify a solver to silence this warning.\n",
      "  FutureWarning)\n"
     ]
    }
   ],
   "source": [
    "from sklearn.linear_model import LogisticRegression\n",
    "\n",
    "log_model2 = LogisticRegression(random_state=123,class_weight={0:0.2,1:0.8},penalty='l1')\n",
    "\n",
    "log_model2.fit(X_train,y_train)\n",
    "\n",
    "log_pred_train2 = log_model2.predict(X_train)\n",
    "\n",
    "log_pred_test2 =log_model2.predict(X_test)"
   ]
  },
  {
   "cell_type": "code",
   "execution_count": 53,
   "metadata": {},
   "outputs": [
    {
     "name": "stdout",
     "output_type": "stream",
     "text": [
      "Training Metrics\n",
      "Accuracy: 0.8786930830726452\n",
      "Precision: 0.5776818742293465\n",
      "Recall: 0.7213240954580447\n",
      "Test Metrics\n",
      "Accuracy: 0.8591511219248446\n",
      "Precision: 0.5602739726027397\n",
      "Recall: 0.6715927750410509\n",
      "Test Classification Report\n",
      "              precision    recall  f1-score   support\n",
      "\n",
      "           0       0.93      0.90      0.91      3090\n",
      "           1       0.56      0.67      0.61       609\n",
      "\n",
      "   micro avg       0.86      0.86      0.86      3699\n",
      "   macro avg       0.75      0.78      0.76      3699\n",
      "weighted avg       0.87      0.86      0.86      3699\n",
      "\n",
      "Roc -Auc Curve 0.7838546399477099\n"
     ]
    }
   ],
   "source": [
    "from sklearn.metrics import accuracy_score,precision_score,recall_score\n",
    "\n",
    "print(\"Training Metrics\")\n",
    "print(\"Accuracy:\",accuracy_score(y_train,log_pred_train2))\n",
    "print(\"Precision:\",precision_score(y_train,log_pred_train2))\n",
    "print(\"Recall:\",recall_score(y_train,log_pred_train2))\n",
    "\n",
    "\n",
    "print(\"Test Metrics\")\n",
    "print(\"Accuracy:\",accuracy_score(y_test,log_pred_test2))\n",
    "print(\"Precision:\",precision_score(y_test,log_pred_test2))\n",
    "print(\"Recall:\",recall_score(y_test,log_pred_test2))\n",
    "\n",
    "\n",
    "from sklearn.metrics import classification_report\n",
    "print('Test Classification Report')\n",
    "print(classification_report(y_test,log_pred_test2))\n",
    "\n",
    "from sklearn.metrics import roc_curve, auc\n",
    "false_positive_rate, true_positive_rate, thresholds = roc_curve(y_test, log_pred_test2)\n",
    "roc_auc = auc(false_positive_rate, true_positive_rate)\n",
    "\n",
    "print('Roc -Auc Curve',roc_auc)\n"
   ]
  },
  {
   "cell_type": "markdown",
   "metadata": {},
   "source": [
    "#### Model has improved tremendously by adding class weights and L1 penalty to the model"
   ]
  },
  {
   "cell_type": "markdown",
   "metadata": {},
   "source": [
    "### Clustering data"
   ]
  },
  {
   "cell_type": "markdown",
   "metadata": {},
   "source": [
    "#### Reduce Dimension using PCA"
   ]
  },
  {
   "cell_type": "code",
   "execution_count": 54,
   "metadata": {},
   "outputs": [],
   "source": [
    "from sklearn.decomposition import PCA\n",
    "pca = PCA(n_components=2)\n",
    "principalComponents = pca.fit_transform(X)\n",
    "principalDf = pd.DataFrame(data = principalComponents\n",
    "             , columns = ['principal component 1', 'principal component 2'])"
   ]
  },
  {
   "cell_type": "code",
   "execution_count": 55,
   "metadata": {},
   "outputs": [
    {
     "data": {
      "text/plain": [
       "<matplotlib.collections.PathCollection at 0x1901afc0978>"
      ]
     },
     "execution_count": 55,
     "metadata": {},
     "output_type": "execute_result"
    },
    {
     "data": {
      "image/png": "[encoded data removed]",
      "text/plain": [
       "<matplotlib.figure.Figure at 0x1901a94f240>"
      ]
     },
     "metadata": {},
     "output_type": "display_data"
    }
   ],
   "source": [
    "plt.scatter(x=principalDf['principal component 1'],y=principalDf['principal component 2'])"
   ]
  },
  {
   "cell_type": "code",
   "execution_count": 56,
   "metadata": {},
   "outputs": [
    {
     "data": {
      "text/html": [
       "<div>\n",
       "<style scoped>\n",
       "    .dataframe tbody tr th:only-of-type {\n",
       "        vertical-align: middle;\n",
       "    }\n",
       "\n",
       "    .dataframe tbody tr th {\n",
       "        vertical-align: top;\n",
       "    }\n",
       "\n",
       "    .dataframe thead th {\n",
       "        text-align: right;\n",
       "    }\n",
       "</style>\n",
       "<table border=\"1\" class=\"dataframe\">\n",
       "  <thead>\n",
       "    <tr style=\"text-align: right;\">\n",
       "      <th></th>\n",
       "      <th>principal component 1</th>\n",
       "      <th>principal component 2</th>\n",
       "    </tr>\n",
       "  </thead>\n",
       "  <tbody>\n",
       "    <tr>\n",
       "      <th>0</th>\n",
       "      <td>1.462301</td>\n",
       "      <td>-1.065053</td>\n",
       "    </tr>\n",
       "    <tr>\n",
       "      <th>1</th>\n",
       "      <td>-0.522268</td>\n",
       "      <td>-0.171999</td>\n",
       "    </tr>\n",
       "    <tr>\n",
       "      <th>2</th>\n",
       "      <td>1.112239</td>\n",
       "      <td>-1.110162</td>\n",
       "    </tr>\n",
       "    <tr>\n",
       "      <th>3</th>\n",
       "      <td>-0.118212</td>\n",
       "      <td>-0.894743</td>\n",
       "    </tr>\n",
       "    <tr>\n",
       "      <th>4</th>\n",
       "      <td>0.473670</td>\n",
       "      <td>-0.591737</td>\n",
       "    </tr>\n",
       "  </tbody>\n",
       "</table>\n",
       "</div>"
      ],
      "text/plain": [
       "   principal component 1  principal component 2\n",
       "0               1.462301              -1.065053\n",
       "1              -0.522268              -0.171999\n",
       "2               1.112239              -1.110162\n",
       "3              -0.118212              -0.894743\n",
       "4               0.473670              -0.591737"
      ]
     },
     "execution_count": 56,
     "metadata": {},
     "output_type": "execute_result"
    }
   ],
   "source": [
    "principalDf.head()"
   ]
  },
  {
   "cell_type": "code",
   "execution_count": 57,
   "metadata": {},
   "outputs": [],
   "source": [
    "finalDf = pd.concat([principalDf, y], axis = 1)"
   ]
  },
  {
   "cell_type": "code",
   "execution_count": 58,
   "metadata": {},
   "outputs": [
    {
     "data": {
      "text/html": [
       "<div>\n",
       "<style scoped>\n",
       "    .dataframe tbody tr th:only-of-type {\n",
       "        vertical-align: middle;\n",
       "    }\n",
       "\n",
       "    .dataframe tbody tr th {\n",
       "        vertical-align: top;\n",
       "    }\n",
       "\n",
       "    .dataframe thead th {\n",
       "        text-align: right;\n",
       "    }\n",
       "</style>\n",
       "<table border=\"1\" class=\"dataframe\">\n",
       "  <thead>\n",
       "    <tr style=\"text-align: right;\">\n",
       "      <th></th>\n",
       "      <th>principal component 1</th>\n",
       "      <th>principal component 2</th>\n",
       "      <th>Revenue</th>\n",
       "    </tr>\n",
       "  </thead>\n",
       "  <tbody>\n",
       "    <tr>\n",
       "      <th>0</th>\n",
       "      <td>1.462301</td>\n",
       "      <td>-1.065053</td>\n",
       "      <td>0</td>\n",
       "    </tr>\n",
       "    <tr>\n",
       "      <th>1</th>\n",
       "      <td>-0.522268</td>\n",
       "      <td>-0.171999</td>\n",
       "      <td>0</td>\n",
       "    </tr>\n",
       "    <tr>\n",
       "      <th>2</th>\n",
       "      <td>1.112239</td>\n",
       "      <td>-1.110162</td>\n",
       "      <td>0</td>\n",
       "    </tr>\n",
       "    <tr>\n",
       "      <th>3</th>\n",
       "      <td>-0.118212</td>\n",
       "      <td>-0.894743</td>\n",
       "      <td>0</td>\n",
       "    </tr>\n",
       "    <tr>\n",
       "      <th>4</th>\n",
       "      <td>0.473670</td>\n",
       "      <td>-0.591737</td>\n",
       "      <td>0</td>\n",
       "    </tr>\n",
       "  </tbody>\n",
       "</table>\n",
       "</div>"
      ],
      "text/plain": [
       "   principal component 1  principal component 2  Revenue\n",
       "0               1.462301              -1.065053        0\n",
       "1              -0.522268              -0.171999        0\n",
       "2               1.112239              -1.110162        0\n",
       "3              -0.118212              -0.894743        0\n",
       "4               0.473670              -0.591737        0"
      ]
     },
     "execution_count": 58,
     "metadata": {},
     "output_type": "execute_result"
    }
   ],
   "source": [
    "finalDf.head()"
   ]
  },
  {
   "cell_type": "code",
   "execution_count": 59,
   "metadata": {},
   "outputs": [
    {
     "data": {
      "image/png": "[encoded data removed]",
      "text/plain": [
       "<matplotlib.figure.Figure at 0x1901a7612e8>"
      ]
     },
     "metadata": {},
     "output_type": "display_data"
    }
   ],
   "source": [
    "fig = plt.figure(figsize = (8,8))\n",
    "ax = fig.add_subplot(1,1,1) \n",
    "ax.set_xlabel('Principal Component 1', fontsize = 15)\n",
    "ax.set_ylabel('Principal Component 2', fontsize = 15)\n",
    "ax.set_title('2 component PCA', fontsize = 20)\n",
    "targets = [0,1]\n",
    "colors = ['r', 'g']\n",
    "for target, color in zip(targets,colors):\n",
    "    indicesToKeep = finalDf['Revenue'] == target\n",
    "    ax.scatter(finalDf.loc[indicesToKeep, 'principal component 1']\n",
    "               , finalDf.loc[indicesToKeep, 'principal component 2']\n",
    "               , c = color\n",
    "               , s = 50)\n",
    "ax.legend(targets)\n",
    "ax.grid()"
   ]
  },
  {
   "cell_type": "markdown",
   "metadata": {},
   "source": [
    "#### Kmeans"
   ]
  },
  {
   "cell_type": "markdown",
   "metadata": {},
   "source": [
    "Determine optimum k using Elbow Plot"
   ]
  },
  {
   "cell_type": "code",
   "execution_count": 60,
   "metadata": {},
   "outputs": [
    {
     "data": {
      "image/png": "[encoded data removed]",
      "text/plain": [
       "<matplotlib.figure.Figure at 0x1901a7666d8>"
      ]
     },
     "metadata": {},
     "output_type": "display_data"
    }
   ],
   "source": [
    "#Elbow Plot \n",
    "\n",
    "from sklearn.cluster import KMeans\n",
    "\n",
    "ssd =[]\n",
    "\n",
    "cluster_range= range(1,100)\n",
    "\n",
    "for k in cluster_range:\n",
    "    kmeans = KMeans(n_clusters=k)\n",
    "    kmeans = kmeans.fit(X)\n",
    "    ssd.append(kmeans.inertia_)\n",
    "    \n",
    "plt.plot(cluster_range, ssd, 'bx-')\n",
    "plt.xlabel('k')\n",
    "plt.ylabel('Sum_of_squared_distances')\n",
    "plt.title('Elbow Method For Optimal k')\n",
    "plt.show()\n"
   ]
  },
  {
   "cell_type": "code",
   "execution_count": 76,
   "metadata": {},
   "outputs": [],
   "source": [
    "from sklearn.cluster import KMeans\n",
    "\n",
    "# Number of clusters\n",
    "kmeans = KMeans(n_clusters=3)\n",
    "# Fitting the input data\n",
    "kmeans = kmeans.fit(X)\n",
    "# Getting the cluster labels\n",
    "labels = kmeans.predict(X)\n",
    "# Centroid values\n",
    "centroids = kmeans.cluster_centers_"
   ]
  },
  {
   "cell_type": "code",
   "execution_count": 77,
   "metadata": {},
   "outputs": [
    {
     "name": "stdout",
     "output_type": "stream",
     "text": [
      "[[ 2.42392343e-02  1.28803436e-01  2.30216862e-01 ...  2.80026991e-02\n",
      "   2.00000000e+00 -1.60931174e-01]\n",
      " [ 2.25364030e-02  8.27068493e-02  1.94119149e-01 ...  1.17913832e-02\n",
      "   1.00000000e+00 -1.10355253e-01]\n",
      " [ 2.62707052e-02  1.59658092e-01  2.50446032e-01 ...  1.34496547e-02\n",
      "   4.50750548e-14 -1.57033806e-01]]\n"
     ]
    }
   ],
   "source": [
    "print(centroids)"
   ]
  },
  {
   "cell_type": "code",
   "execution_count": 78,
   "metadata": {},
   "outputs": [
    {
     "data": {
      "text/plain": [
       "69056.6153351676"
      ]
     },
     "execution_count": 78,
     "metadata": {},
     "output_type": "execute_result"
    }
   ],
   "source": [
    "kmeans.inertia_"
   ]
  },
  {
   "cell_type": "code",
   "execution_count": 79,
   "metadata": {},
   "outputs": [
    {
     "data": {
      "text/plain": [
       "array([0, 1, 0, ..., 2, 1, 2])"
      ]
     },
     "execution_count": 79,
     "metadata": {},
     "output_type": "execute_result"
    }
   ],
   "source": [
    "kmeans.labels_"
   ]
  },
  {
   "cell_type": "code",
   "execution_count": 66,
   "metadata": {},
   "outputs": [],
   "source": [
    "X['Cluster'] = pd.Series(kmeans.labels_)"
   ]
  },
  {
   "cell_type": "code",
   "execution_count": 67,
   "metadata": {},
   "outputs": [
    {
     "data": {
      "text/html": [
       "<div>\n",
       "<style scoped>\n",
       "    .dataframe tbody tr th:only-of-type {\n",
       "        vertical-align: middle;\n",
       "    }\n",
       "\n",
       "    .dataframe tbody tr th {\n",
       "        vertical-align: top;\n",
       "    }\n",
       "\n",
       "    .dataframe thead th {\n",
       "        text-align: right;\n",
       "    }\n",
       "</style>\n",
       "<table border=\"1\" class=\"dataframe\">\n",
       "  <thead>\n",
       "    <tr style=\"text-align: right;\">\n",
       "      <th></th>\n",
       "      <th>Administrative_Duration</th>\n",
       "      <th>BounceRates</th>\n",
       "      <th>ExitRates</th>\n",
       "      <th>Informational_Duration</th>\n",
       "      <th>Month_Aug</th>\n",
       "      <th>Month_Dec</th>\n",
       "      <th>Month_Feb</th>\n",
       "      <th>Month_Jul</th>\n",
       "      <th>Month_June</th>\n",
       "      <th>Month_Mar</th>\n",
       "      <th>...</th>\n",
       "      <th>TrafficType_12</th>\n",
       "      <th>TrafficType_13</th>\n",
       "      <th>TrafficType_14</th>\n",
       "      <th>TrafficType_15</th>\n",
       "      <th>TrafficType_16</th>\n",
       "      <th>TrafficType_17</th>\n",
       "      <th>TrafficType_18</th>\n",
       "      <th>TrafficType_19</th>\n",
       "      <th>TrafficType_20</th>\n",
       "      <th>Cluster</th>\n",
       "    </tr>\n",
       "  </thead>\n",
       "  <tbody>\n",
       "    <tr>\n",
       "      <th>0</th>\n",
       "      <td>0.0</td>\n",
       "      <td>1.00</td>\n",
       "      <td>1.00</td>\n",
       "      <td>0.0</td>\n",
       "      <td>0.0</td>\n",
       "      <td>0.0</td>\n",
       "      <td>1.0</td>\n",
       "      <td>0.0</td>\n",
       "      <td>0.0</td>\n",
       "      <td>0.0</td>\n",
       "      <td>...</td>\n",
       "      <td>0.0</td>\n",
       "      <td>0.0</td>\n",
       "      <td>0.0</td>\n",
       "      <td>0.0</td>\n",
       "      <td>0.0</td>\n",
       "      <td>0.0</td>\n",
       "      <td>0.0</td>\n",
       "      <td>0.0</td>\n",
       "      <td>0.0</td>\n",
       "      <td>2</td>\n",
       "    </tr>\n",
       "    <tr>\n",
       "      <th>1</th>\n",
       "      <td>0.0</td>\n",
       "      <td>0.00</td>\n",
       "      <td>0.50</td>\n",
       "      <td>0.0</td>\n",
       "      <td>0.0</td>\n",
       "      <td>0.0</td>\n",
       "      <td>1.0</td>\n",
       "      <td>0.0</td>\n",
       "      <td>0.0</td>\n",
       "      <td>0.0</td>\n",
       "      <td>...</td>\n",
       "      <td>0.0</td>\n",
       "      <td>0.0</td>\n",
       "      <td>0.0</td>\n",
       "      <td>0.0</td>\n",
       "      <td>0.0</td>\n",
       "      <td>0.0</td>\n",
       "      <td>0.0</td>\n",
       "      <td>0.0</td>\n",
       "      <td>0.0</td>\n",
       "      <td>1</td>\n",
       "    </tr>\n",
       "    <tr>\n",
       "      <th>2</th>\n",
       "      <td>0.0</td>\n",
       "      <td>1.00</td>\n",
       "      <td>1.00</td>\n",
       "      <td>0.0</td>\n",
       "      <td>0.0</td>\n",
       "      <td>0.0</td>\n",
       "      <td>1.0</td>\n",
       "      <td>0.0</td>\n",
       "      <td>0.0</td>\n",
       "      <td>0.0</td>\n",
       "      <td>...</td>\n",
       "      <td>0.0</td>\n",
       "      <td>0.0</td>\n",
       "      <td>0.0</td>\n",
       "      <td>0.0</td>\n",
       "      <td>0.0</td>\n",
       "      <td>0.0</td>\n",
       "      <td>0.0</td>\n",
       "      <td>0.0</td>\n",
       "      <td>0.0</td>\n",
       "      <td>2</td>\n",
       "    </tr>\n",
       "    <tr>\n",
       "      <th>3</th>\n",
       "      <td>0.0</td>\n",
       "      <td>0.25</td>\n",
       "      <td>0.70</td>\n",
       "      <td>0.0</td>\n",
       "      <td>0.0</td>\n",
       "      <td>0.0</td>\n",
       "      <td>1.0</td>\n",
       "      <td>0.0</td>\n",
       "      <td>0.0</td>\n",
       "      <td>0.0</td>\n",
       "      <td>...</td>\n",
       "      <td>0.0</td>\n",
       "      <td>0.0</td>\n",
       "      <td>0.0</td>\n",
       "      <td>0.0</td>\n",
       "      <td>0.0</td>\n",
       "      <td>0.0</td>\n",
       "      <td>0.0</td>\n",
       "      <td>0.0</td>\n",
       "      <td>0.0</td>\n",
       "      <td>0</td>\n",
       "    </tr>\n",
       "    <tr>\n",
       "      <th>4</th>\n",
       "      <td>0.0</td>\n",
       "      <td>0.10</td>\n",
       "      <td>0.25</td>\n",
       "      <td>0.0</td>\n",
       "      <td>0.0</td>\n",
       "      <td>0.0</td>\n",
       "      <td>1.0</td>\n",
       "      <td>0.0</td>\n",
       "      <td>0.0</td>\n",
       "      <td>0.0</td>\n",
       "      <td>...</td>\n",
       "      <td>0.0</td>\n",
       "      <td>0.0</td>\n",
       "      <td>0.0</td>\n",
       "      <td>0.0</td>\n",
       "      <td>0.0</td>\n",
       "      <td>0.0</td>\n",
       "      <td>0.0</td>\n",
       "      <td>0.0</td>\n",
       "      <td>0.0</td>\n",
       "      <td>0</td>\n",
       "    </tr>\n",
       "  </tbody>\n",
       "</table>\n",
       "<p>5 rows × 427 columns</p>\n",
       "</div>"
      ],
      "text/plain": [
       "   Administrative_Duration  BounceRates  ExitRates  Informational_Duration  \\\n",
       "0                      0.0         1.00       1.00                     0.0   \n",
       "1                      0.0         0.00       0.50                     0.0   \n",
       "2                      0.0         1.00       1.00                     0.0   \n",
       "3                      0.0         0.25       0.70                     0.0   \n",
       "4                      0.0         0.10       0.25                     0.0   \n",
       "\n",
       "   Month_Aug  Month_Dec  Month_Feb  Month_Jul  Month_June  Month_Mar   ...     \\\n",
       "0        0.0        0.0        1.0        0.0         0.0        0.0   ...      \n",
       "1        0.0        0.0        1.0        0.0         0.0        0.0   ...      \n",
       "2        0.0        0.0        1.0        0.0         0.0        0.0   ...      \n",
       "3        0.0        0.0        1.0        0.0         0.0        0.0   ...      \n",
       "4        0.0        0.0        1.0        0.0         0.0        0.0   ...      \n",
       "\n",
       "   TrafficType_12  TrafficType_13  TrafficType_14  TrafficType_15  \\\n",
       "0             0.0             0.0             0.0             0.0   \n",
       "1             0.0             0.0             0.0             0.0   \n",
       "2             0.0             0.0             0.0             0.0   \n",
       "3             0.0             0.0             0.0             0.0   \n",
       "4             0.0             0.0             0.0             0.0   \n",
       "\n",
       "   TrafficType_16  TrafficType_17  TrafficType_18  TrafficType_19  \\\n",
       "0             0.0             0.0             0.0             0.0   \n",
       "1             0.0             0.0             0.0             0.0   \n",
       "2             0.0             0.0             0.0             0.0   \n",
       "3             0.0             0.0             0.0             0.0   \n",
       "4             0.0             0.0             0.0             0.0   \n",
       "\n",
       "   TrafficType_20  Cluster  \n",
       "0             0.0        2  \n",
       "1             0.0        1  \n",
       "2             0.0        2  \n",
       "3             0.0        0  \n",
       "4             0.0        0  \n",
       "\n",
       "[5 rows x 427 columns]"
      ]
     },
     "execution_count": 67,
     "metadata": {},
     "output_type": "execute_result"
    }
   ],
   "source": [
    "X.head()"
   ]
  },
  {
   "cell_type": "code",
   "execution_count": null,
   "metadata": {},
   "outputs": [],
   "source": [
    "X.groupby(['Cluster']).mean()[['Administrative_Duration','Informational_Duration','BounceRates', 'ExitRates', 'PageValues','Weekend','VisitorType_New_Visitor', 'VisitorType_Other',\n",
    "       'VisitorType_Returning_Visitor']]"
   ]
  },
  {
   "cell_type": "markdown",
   "metadata": {},
   "source": [
    "### DBSCAN"
   ]
  },
  {
   "cell_type": "code",
   "execution_count": 68,
   "metadata": {},
   "outputs": [],
   "source": [
    "from sklearn.cluster import DBSCAN\n",
    "dbscan = DBSCAN(eps=2.3, min_samples=10)"
   ]
  },
  {
   "cell_type": "code",
   "execution_count": 69,
   "metadata": {},
   "outputs": [
    {
     "data": {
      "text/plain": [
       "DBSCAN(algorithm='auto', eps=2.3, leaf_size=30, metric='euclidean',\n",
       "    metric_params=None, min_samples=10, n_jobs=None, p=None)"
      ]
     },
     "execution_count": 69,
     "metadata": {},
     "output_type": "execute_result"
    }
   ],
   "source": [
    "dbscan"
   ]
  },
  {
   "cell_type": "code",
   "execution_count": 70,
   "metadata": {},
   "outputs": [
    {
     "data": {
      "text/plain": [
       "DBSCAN(algorithm='auto', eps=2.3, leaf_size=30, metric='euclidean',\n",
       "    metric_params=None, min_samples=10, n_jobs=None, p=None)"
      ]
     },
     "execution_count": 70,
     "metadata": {},
     "output_type": "execute_result"
    }
   ],
   "source": [
    "dbscan.fit(X)"
   ]
  },
  {
   "cell_type": "code",
   "execution_count": 71,
   "metadata": {},
   "outputs": [
    {
     "data": {
      "text/plain": [
       "array([-1,  0], dtype=int64)"
      ]
     },
     "execution_count": 71,
     "metadata": {},
     "output_type": "execute_result"
    }
   ],
   "source": [
    "np.unique(dbscan.labels_)"
   ]
  },
  {
   "cell_type": "code",
   "execution_count": 72,
   "metadata": {},
   "outputs": [],
   "source": [
    "s1 =pd.Series(dbscan.labels_)"
   ]
  },
  {
   "cell_type": "code",
   "execution_count": 73,
   "metadata": {},
   "outputs": [
    {
     "data": {
      "text/plain": [
       " 0    10691\n",
       "-1     1639\n",
       "dtype: int64"
      ]
     },
     "execution_count": 73,
     "metadata": {},
     "output_type": "execute_result"
    }
   ],
   "source": [
    "s1.value_counts()"
   ]
  },
  {
   "cell_type": "code",
   "execution_count": 74,
   "metadata": {},
   "outputs": [],
   "source": [
    "X['DbScanOutput'] = s1"
   ]
  },
  {
   "cell_type": "code",
   "execution_count": 75,
   "metadata": {},
   "outputs": [
    {
     "data": {
      "text/html": [
       "<div>\n",
       "<style scoped>\n",
       "    .dataframe tbody tr th:only-of-type {\n",
       "        vertical-align: middle;\n",
       "    }\n",
       "\n",
       "    .dataframe tbody tr th {\n",
       "        vertical-align: top;\n",
       "    }\n",
       "\n",
       "    .dataframe thead th {\n",
       "        text-align: right;\n",
       "    }\n",
       "</style>\n",
       "<table border=\"1\" class=\"dataframe\">\n",
       "  <thead>\n",
       "    <tr style=\"text-align: right;\">\n",
       "      <th></th>\n",
       "      <th>Administrative_Duration</th>\n",
       "      <th>Informational_Duration</th>\n",
       "      <th>BounceRates</th>\n",
       "      <th>ExitRates</th>\n",
       "      <th>PageValues</th>\n",
       "      <th>Weekend</th>\n",
       "      <th>VisitorType_New_Visitor</th>\n",
       "      <th>VisitorType_Other</th>\n",
       "      <th>VisitorType_Returning_Visitor</th>\n",
       "    </tr>\n",
       "    <tr>\n",
       "      <th>DbScanOutput</th>\n",
       "      <th></th>\n",
       "      <th></th>\n",
       "      <th></th>\n",
       "      <th></th>\n",
       "      <th></th>\n",
       "      <th></th>\n",
       "      <th></th>\n",
       "      <th></th>\n",
       "      <th></th>\n",
       "    </tr>\n",
       "  </thead>\n",
       "  <tbody>\n",
       "    <tr>\n",
       "      <th>-1</th>\n",
       "      <td>0.058791</td>\n",
       "      <td>0.050330</td>\n",
       "      <td>0.040203</td>\n",
       "      <td>0.114834</td>\n",
       "      <td>0.023862</td>\n",
       "      <td>0.300793</td>\n",
       "      <td>0.249542</td>\n",
       "      <td>0.006101</td>\n",
       "      <td>0.744356</td>\n",
       "    </tr>\n",
       "    <tr>\n",
       "      <th>0</th>\n",
       "      <td>0.018411</td>\n",
       "      <td>0.007879</td>\n",
       "      <td>0.121804</td>\n",
       "      <td>0.230776</td>\n",
       "      <td>0.015117</td>\n",
       "      <td>0.222149</td>\n",
       "      <td>0.120195</td>\n",
       "      <td>0.007015</td>\n",
       "      <td>0.872790</td>\n",
       "    </tr>\n",
       "  </tbody>\n",
       "</table>\n",
       "</div>"
      ],
      "text/plain": [
       "              Administrative_Duration  Informational_Duration  BounceRates  \\\n",
       "DbScanOutput                                                                 \n",
       "-1                           0.058791                0.050330     0.040203   \n",
       " 0                           0.018411                0.007879     0.121804   \n",
       "\n",
       "              ExitRates  PageValues   Weekend  VisitorType_New_Visitor  \\\n",
       "DbScanOutput                                                             \n",
       "-1             0.114834    0.023862  0.300793                 0.249542   \n",
       " 0             0.230776    0.015117  0.222149                 0.120195   \n",
       "\n",
       "              VisitorType_Other  VisitorType_Returning_Visitor  \n",
       "DbScanOutput                                                    \n",
       "-1                     0.006101                       0.744356  \n",
       " 0                     0.007015                       0.872790  "
      ]
     },
     "execution_count": 75,
     "metadata": {},
     "output_type": "execute_result"
    }
   ],
   "source": [
    "X.groupby(['DbScanOutput']).mean()[['Administrative_Duration','Informational_Duration','BounceRates', 'ExitRates', 'PageValues','Weekend','VisitorType_New_Visitor', 'VisitorType_Other',\n",
    "       'VisitorType_Returning_Visitor']]"
   ]
  },
  {
   "cell_type": "markdown",
   "metadata": {},
   "source": [
    "#### VisitorType 'Other' is clearly seperable from  new and returning visitor"
   ]
  }
 ],
 "metadata": {
  "kernelspec": {
   "display_name": "Python 3",
   "language": "python",
   "name": "python3"
  },
  "language_info": {
   "codemirror_mode": {
    "name": "ipython",
    "version": 3
   },
   "file_extension": ".py",
   "mimetype": "text/x-python",
   "name": "python",
   "nbconvert_exporter": "python",
   "pygments_lexer": "ipython3",
   "version": "3.6.4"
  }
 },
 "nbformat": 4,
 "nbformat_minor": 2
}
